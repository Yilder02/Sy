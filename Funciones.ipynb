{
  "nbformat": 4,
  "nbformat_minor": 0,
  "metadata": {
    "colab": {
      "provenance": []
    },
    "kernelspec": {
      "name": "python3",
      "display_name": "Python 3"
    },
    "language_info": {
      "name": "python"
    }
  },
  "cells": [
    {
      "cell_type": "code",
      "execution_count": 2,
      "metadata": {
        "id": "ui11Of_mXs-7"
      },
      "outputs": [],
      "source": [
        "#Crea una función que tome la longitud de los lados del triángulo y devuelva el área del triángulo, redondeada a un decimal.\n",
        "#El módulo de matemáticas puede ayudarte a calcular la raíz cuadrada.\n",
        "import math\n",
        "def a_tri(s1,s2,s3):\n",
        "  s=((s1+s2+s3)/2)\n",
        "  a=math.sqrt(s*(s-s1)*(s-s2)*(s-s3))\n",
        "  a=round(a,2)\n",
        "  print (\"El area del triangulo es de: \",a)"
      ]
    },
    {
      "cell_type": "code",
      "source": [
        "area= a_tri(10,12,3)"
      ],
      "metadata": {
        "colab": {
          "base_uri": "https://localhost:8080/"
        },
        "id": "iMkJ4nJYYHk-",
        "outputId": "7bcf7be0-960f-4a26-e1c3-e6d95fcf5f9b"
      },
      "execution_count": 3,
      "outputs": [
        {
          "output_type": "stream",
          "name": "stdout",
          "text": [
            "El area del triangulo es de:  12.18\n"
          ]
        }
      ]
    },
    {
      "cell_type": "code",
      "source": [
        "#Cree una función que pueda calcular el índice de masa corporal (IMC) de una persona.\n",
        "#La fórmula para calcular el IMC es la siguiente:\n",
        "#IMC = peso/(altura^2)\n",
        "\n",
        "def IMC(p,a): #El usuario ingresa el peso en libras y la altura en pulgadas\n",
        "   p=p*0.45\n",
        "   a=a*0.025\n",
        "   imc=p/(a**2)\n",
        "   imc=round(imc,2)\n",
        "   print (\"Su IMC es de: \",imc)"
      ],
      "metadata": {
        "id": "Zcmd0HqeYOzE"
      },
      "execution_count": 4,
      "outputs": []
    },
    {
      "cell_type": "code",
      "source": [
        "p=float(input(\"Ingrese su peso en libras: \"))\n",
        "a=float(input(\"Ingrese su altura en pulgadas: \"))\n",
        "mc= IMC(p,a)"
      ],
      "metadata": {
        "colab": {
          "base_uri": "https://localhost:8080/"
        },
        "id": "Zcxic9pyYP72",
        "outputId": "900cc9ee-637a-4b3f-ecd3-1300530024d6"
      },
      "execution_count": 5,
      "outputs": [
        {
          "output_type": "stream",
          "name": "stdout",
          "text": [
            "Ingrese su peso en libras: 45\n",
            "Ingrese su altura en pulgadas: 23\n",
            "Su IMC es de:  61.25\n"
          ]
        }
      ]
    }
  ]
}