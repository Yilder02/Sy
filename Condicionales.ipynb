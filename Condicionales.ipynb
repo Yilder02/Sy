{
  "nbformat": 4,
  "nbformat_minor": 0,
  "metadata": {
    "colab": {
      "provenance": []
    },
    "kernelspec": {
      "name": "python3",
      "display_name": "Python 3"
    },
    "language_info": {
      "name": "python"
    }
  },
  "cells": [
    {
      "cell_type": "code",
      "execution_count": null,
      "metadata": {
        "id": "TMLFXOC265qT"
      },
      "outputs": [],
      "source": []
    },
    {
      "cell_type": "code",
      "source": [
        "#Para poder pagar un determinado impuesto es necesario ser mayor de 16 años y disponer de unos ingresos mensuales iguales o superiores a 1000€.\n",
        "#Escriba un programa que le pregunte al usuario su edad e ingresos mensuales, y muestre si el usuario tiene que pagar el impuesto o no.\n",
        "ed=input(\"Ingrese su edad: \" )\n",
        "ed=int(ed)\n",
        "ing=input(\"Escriba sus ingresos mensuales (€): \")\n",
        "ing=float(ing)\n",
        "\n",
        "if ed>16 and ing>=1000:\n",
        "  print(\"El usuario debe pagar el impuesto\")\n",
        "else:\n",
        " print(\"El usuario NO debe pagar el impuesto\")\n",
        "\n"
      ],
      "metadata": {
        "id": "KIWL9EGb7SIR",
        "outputId": "0cea1cdc-402c-4954-a17d-e4dfd7264eb5",
        "colab": {
          "base_uri": "https://localhost:8080/"
        }
      },
      "execution_count": null,
      "outputs": [
        {
          "output_type": "stream",
          "name": "stdout",
          "text": [
            "Ingrese su edad: 21\n",
            "Escriba sus ingresos mensuales: 130\n",
            "El usuario no debe pagar el impuesto\n"
          ]
        }
      ]
    },
    {
      "cell_type": "code",
      "source": [
        "from ctypes import sizeof\n",
        "#La pizzería Bella Napoli ofrece pizzas vegetarianas y no vegetarianas a sus clientes. Los ingredientes para cada tipo de pizza son los siguientes:\n",
        "#Ingredientes vegetarianos: pimientos y tofu.\n",
        "#Ingredientes no vegetarianos: pepperoni, jamón y salmón.\n",
        "#Escriba un programa que le pregunte al usuario si quiere una pizza vegetariana o no y, en función de su respuesta, muestre un menú con los ingredientes disponibles para que elija.\n",
        "#Solo se puede elegir un ingrediente adicional además de la mozzarella y el tomate, que se incluyen en todas las pizzas.\n",
        "# Finalmente, el programa debe mostrar si la pizza elegida es vegetariana o no, junto con todos los ingredientes que contiene.\n",
        "pi=input(\"¿Quiere una pizza vegetariana?.Escriba 0 si su respuesta es afirmativa \")\n",
        "pi=int(pi)\n",
        "if pi==0:\n",
        "  print(\"Para su pizza vegetariana puede elegir pimiento o tofu\")\n",
        "else:\n",
        "  print(\"Para su pizza puede elegir pepperoni, jamon o salmón\")\n",
        "\n",
        "print(\"Todas la pizzas llevan mozzarella y tomate, ademas del ingrediene adicional que desee\")\n",
        "\n",
        "\n",
        "if pi==0:\n",
        "  ing=input(\"Ingrese el adicional que desee, recuerde que solo puede elegir pimiento o tofu\")\n",
        "  ing=str(ing)\n",
        "  print(\"la pizza elegida es vegetariana y contiene mozzarella, tomate y \",ing)\n",
        "else:\n",
        "  ing=input(\"Ingrese el adicional que desee, recuerde que solo puede elegir pepperoni, jamon o salmon\")\n",
        "  ing=str(ing)\n",
        "  print(\"Su pizza elegida no es vegetariana y contiene mozzarella,tomate y \",ing)\n",
        "\n",
        "\n",
        "\n"
      ],
      "metadata": {
        "id": "ZTPCefrRF5qo",
        "outputId": "a9c2264d-60ba-44c9-8ebf-3b8fd9191740",
        "colab": {
          "base_uri": "https://localhost:8080/"
        }
      },
      "execution_count": null,
      "outputs": [
        {
          "output_type": "stream",
          "name": "stdout",
          "text": [
            "¿Quiere una pizza vegetariana?.Escriba 0 si su respuesta es afirmativa 3\n",
            "Para su pizza puede elegir pepperoni, jamon o salmón\n",
            "Todas la pizzas llevan mozzarella y tomate, ademas del ingrediene adicional que desee\n",
            "Ingrese el adicional que desee, recuerde que solo puede elegir pepperoni, jamon o salmonsalmon\n",
            "Su pizza elegida no es vegetariana y contiene mozzarella,tomate y  salmon\n"
          ]
        }
      ]
    }
  ]
}