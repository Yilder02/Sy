{
  "nbformat": 4,
  "nbformat_minor": 0,
  "metadata": {
    "colab": {
      "provenance": []
    },
    "kernelspec": {
      "name": "python3",
      "display_name": "Python 3"
    },
    "language_info": {
      "name": "python"
    }
  },
  "cells": [
    {
      "cell_type": "code",
      "source": [
        "#Write a program that displays the result of the following arithmetic operation on the screen:  x(t)=(3+2/(2.5))^2\n",
        "x=((3+2)/2.5)**2\n",
        "print(x)\n"
      ],
      "metadata": {
        "id": "5w2BbuDM9Gp0",
        "outputId": "9fd989c7-2df0-411f-d81b-6f0de0d6dccc",
        "colab": {
          "base_uri": "https://localhost:8080/"
        }
      },
      "execution_count": null,
      "outputs": [
        {
          "output_type": "stream",
          "name": "stdout",
          "text": [
            "4.0\n"
          ]
        }
      ]
    },
    {
      "cell_type": "code",
      "source": [
        "#Write a program that asks the user for the number of hours worked and the hourly rate.\n",
        "#Then, it should display on the screen the corresponding payment.\n",
        "h= input(\"¿cuantas horas ha trabajado?: \")\n",
        "h=float(h)\n",
        "t=input(\"¿Cuanto es la tarifa por hora?: \")\n",
        "t=float(t)\n",
        "s=h*t\n",
        "print(s)\n"
      ],
      "metadata": {
        "id": "DYIs5bv57aMv",
        "outputId": "60d07ff0-44ff-44ad-b87d-eae81c75ba2d",
        "colab": {
          "base_uri": "https://localhost:8080/"
        }
      },
      "execution_count": null,
      "outputs": [
        {
          "output_type": "stream",
          "name": "stdout",
          "text": [
            "¿cuantas horas ha trabajado?: 23\n",
            "¿Cuanto es la tarifa por hora?: 4000\n",
            "92000.0\n"
          ]
        }
      ]
    },
    {
      "cell_type": "code",
      "source": [
        "#Escriba un programa que le pregunte al usuario su peso (en kg) y altura (en metros),\n",
        "#calcule el índice de masa corporal (IMC), lo almacene en una variable y muestre el mensaje \"Su índice de masa corporal es imc\" en el pantalla,\n",
        "# donde imc es el IMC calculado redondeado a dos decimales.\n",
        "p= input(\"Ingrese su peso (kg): \")\n",
        "p=float(p)\n",
        "a=input(\"Ingrese su altura (m): \")\n",
        "a=float(a)\n",
        "c=(p/((a)**2))\n",
        "imc=round(c,2)\n",
        "print(\"Su indice de masa corporal es: \",imc)\n",
        "\n"
      ],
      "metadata": {
        "colab": {
          "base_uri": "https://localhost:8080/"
        },
        "id": "wL_JoypsBMx0",
        "outputId": "991e6744-b127-43f7-de37-c74f4d038d16"
      },
      "execution_count": null,
      "outputs": [
        {
          "output_type": "stream",
          "name": "stdout",
          "text": [
            "Ingrese su peso (kg): 78\n",
            "Ingrese su altura (m): 1.77\n",
            "Su indice de masa corporal es:  24.9\n"
          ]
        }
      ]
    }
  ]
}