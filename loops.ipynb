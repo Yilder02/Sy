{
  "nbformat": 4,
  "nbformat_minor": 0,
  "metadata": {
    "colab": {
      "provenance": []
    },
    "kernelspec": {
      "name": "python3",
      "display_name": "Python 3"
    },
    "language_info": {
      "name": "python"
    }
  },
  "cells": [
    {
      "cell_type": "code",
      "source": [
        "#Escriba un código que le pida al usuario que ingrese un número entero cada vez,\n",
        "#y el proceso se repetirá con más números hasta que el usuario ingrese un cero.\n",
        "#Al final (cuando se ingresa el cero), muestra la cantidad de números ingresados.\n",
        "#\n",
        "num=input(\"Ingrese un numero entero: \")\n",
        "num=int(num)\n",
        "conNum=0\n",
        "while num!=0:\n",
        "  num=input(\"Ingrese un numero entero: \")\n",
        "  num=int(num)\n",
        "  conNum=conNum+1\n",
        "\n",
        "print(\"La cantidad de numeros ingresados fue:\",conNum)\n",
        "\n"
      ],
      "metadata": {
        "id": "glUOgM5V4ed2",
        "outputId": "2e279a86-7a8e-4225-fd37-02b0bf6908cb",
        "colab": {
          "base_uri": "https://localhost:8080/"
        }
      },
      "execution_count": null,
      "outputs": [
        {
          "output_type": "stream",
          "name": "stdout",
          "text": [
            "Ingrese un numero entero: 1\n",
            "Ingrese un numero entero: 2\n",
            "Ingrese un numero entero: 3\n",
            "Ingrese un numero entero: 4\n",
            "Ingrese un numero entero: 5\n",
            "Ingrese un numero entero: 0\n",
            "La cantidad de numeros ingresados fue: 5\n"
          ]
        }
      ]
    },
    {
      "cell_type": "code",
      "source": [
        "#Use la función input() para pedirle al usuario que ingrese un número entero.\n",
        "# Solo si el número es par, se acumulará.\n",
        "#El programa debe finalizar si la suma de los números supera los 50 o si el usuario ingresa un máximo de 10 números.\n",
        "\n",
        "sump=0\n",
        "sum=0\n",
        "i=0\n",
        "while sum<50 and i<10:\n",
        "  i=i+1\n",
        "  ent=input(\"Ingrese un numero entero: \")\n",
        "  ent=int(ent)\n",
        "  sum=sum+ent\n",
        "  #print(sum)\n",
        "  if (ent % 2==0):\n",
        "   sump=sump+ent\n",
        "\n",
        "print(\"\",sum,sump,i)\n",
        "\n",
        "\n"
      ],
      "metadata": {
        "id": "nnP6HW8YMU16",
        "outputId": "17d25627-81f6-4e37-a661-d1c1efc86d7a",
        "colab": {
          "base_uri": "https://localhost:8080/"
        }
      },
      "execution_count": null,
      "outputs": [
        {
          "output_type": "stream",
          "name": "stdout",
          "text": [
            "Ingrese un numero entero: 1\n",
            "1\n",
            "Ingrese un numero entero: 2\n",
            "3\n",
            "Ingrese un numero entero: 3\n",
            "6\n",
            "Ingrese un numero entero: 4\n",
            "10\n",
            "Ingrese un numero entero: 5\n",
            "15\n",
            "Ingrese un numero entero: 6\n",
            "21\n",
            "Ingrese un numero entero: 7\n",
            "28\n",
            "Ingrese un numero entero: 8\n",
            "36\n",
            "Ingrese un numero entero: 9\n",
            "45\n",
            "Ingrese un numero entero: 10\n",
            "55\n",
            " 55 30 10\n"
          ]
        }
      ]
    }
  ]
}