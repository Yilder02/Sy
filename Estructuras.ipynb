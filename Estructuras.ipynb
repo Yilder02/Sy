{
  "nbformat": 4,
  "nbformat_minor": 0,
  "metadata": {
    "colab": {
      "provenance": []
    },
    "kernelspec": {
      "name": "python3",
      "display_name": "Python 3"
    },
    "language_info": {
      "name": "python"
    }
  },
  "cells": [
    {
      "cell_type": "code",
      "execution_count": null,
      "metadata": {
        "id": "cybL7s8YZtuS"
      },
      "outputs": [],
      "source": [
        "#Escriba una función que tome una lista de números como entrada y devuelva la suma de todos los números impares de la lista.\n",
        "# Por ejemplo, si la entrada es [1, 2, 3, 4, 5, 6],\n",
        "#la función debería devolver 9 (que es la suma de 1, 3 y 5).\n",
        "\n",
        "def sum(List):\n",
        "  sumImpar=0\n",
        "  for i in List:\n",
        "    if i%2!=0:\n",
        "      sumImpar+=i\n",
        "  print(\"La suma de los numeros impares de la lista ingresada es de: \", sumImpar)\n"
      ]
    },
    {
      "cell_type": "code",
      "source": [
        "sum([1,2,3,4,5,6])"
      ],
      "metadata": {
        "id": "JTDVtO-tZ-TM"
      },
      "execution_count": null,
      "outputs": []
    },
    {
      "cell_type": "code",
      "source": [
        "#Escriba una función que tome una lista de palabras como entrada y devuelva un diccionario\n",
        "#que cuente el número de veces que aparece cada palabra en la lista. Por ejemplo,\n",
        "#si la entrada es ['manzana', 'plátano', 'manzana', 'cereza', 'cereza', 'cereza'],\n",
        "# la función debería devolver {'manzana': 2, 'plátano': 1, 'cereza': 3}.\n",
        "\n",
        "def contar_palabras(lista_palabras):\n",
        "    # Crear un diccionario vacío para almacenar las ocurrencias\n",
        "    contador = {}\n",
        "\n",
        "    # Recorrer la lista de palabras\n",
        "    for palabra in lista_palabras:\n",
        "        # Si la palabra ya está en el diccionario, aumentar su contador en 1\n",
        "        if palabra in contador:\n",
        "            contador[palabra] += 1\n",
        "        # Si la palabra no está en el diccionario, agregarla con un contador de 1\n",
        "        else:\n",
        "            contador[palabra] = 1\n",
        "\n",
        "    return contador\n",
        "\n",
        "\n",
        "\n"
      ],
      "metadata": {
        "id": "L-mZSxVAaEXu"
      },
      "execution_count": null,
      "outputs": []
    },
    {
      "cell_type": "code",
      "source": [
        "lista = ['manzana', 'plátano', 'manzana', 'cereza', 'cereza', 'cereza']\n",
        "resultado = contar_palabras(lista)\n",
        "print(resultado)"
      ],
      "metadata": {
        "id": "j6kAWm-7cqJe",
        "outputId": "62a821e8-64bc-4d26-801f-a17443a077e4",
        "colab": {
          "base_uri": "https://localhost:8080/"
        }
      },
      "execution_count": null,
      "outputs": [
        {
          "output_type": "stream",
          "name": "stdout",
          "text": [
            "{'manzana': 2, 'plátano': 1, 'cereza': 3}\n"
          ]
        }
      ]
    }
  ]
}