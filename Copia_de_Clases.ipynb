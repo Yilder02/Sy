{
  "nbformat": 4,
  "nbformat_minor": 0,
  "metadata": {
    "colab": {
      "provenance": []
    },
    "kernelspec": {
      "name": "python3",
      "display_name": "Python 3"
    },
    "language_info": {
      "name": "python"
    }
  },
  "cells": [
    {
      "cell_type": "markdown",
      "source": [
        "# **Ejercicios**\n",
        "1.Crea una clase \"Persona\" que tenga atributos como nombre, edad, género y métodos para presentarse y saludar a otras personas.\n",
        "\n",
        "2.Crea una clase \"Coche\" que tenga atributos como marca, modelo, año, kilometraje y métodos para arrancar, acelerar y frenar.\n",
        "\n",
        "3.Crea una clase \"Rectángulo\" que tenga atributos como longitud y ancho y métodos para calcular el área y el perímetro.\n",
        "\n",
        "4.Crea una clase \"Banco\" que tenga atributos como nombre, dirección y métodos para abrir una cuenta, depositar dinero, retirar dinero y revisar el saldo.\n",
        "\n",
        "5.Crea una clase \"Estudiante\" que tenga atributos como nombre, edad, promedio y métodos para estudiar, hacer tareas y presentar exámenes.\n"
      ],
      "metadata": {
        "id": "NkNCCbidBD1O"
      }
    },
    {
      "cell_type": "code",
      "source": [
        "class Persona:\n",
        "  # Constructor de la clase\n",
        "  def __init__(self, nombre, edad ,genero):\n",
        "     self.nombre=nombre\n",
        "     self.edad= edad\n",
        "     self.genero=genero\n",
        "  # Método para presentarse\n",
        "  def presentarse(self):\n",
        "    print( f\"Hola, mi nombre es {self.nombre}, tengo {self.edad} años y soy {self.genero}.\")\n",
        "  # Método para saludar a otra persona\n",
        "  def saludar(self,otra_persona):\n",
        "     print( f\"Hola {otra_persona.nombre}, soy {self.nombre}. ¡Mucho gusto!\")\n",
        "\n"
      ],
      "metadata": {
        "id": "zjNUkTF0BzYm"
      },
      "execution_count": 2,
      "outputs": []
    },
    {
      "cell_type": "code",
      "source": [
        "#Ejemplo:\n",
        "persona1=Persona(\"Francisco\",25,\"hombre\")\n",
        "persona2=Persona(\"Alejandra\",28,\"mujer\")\n",
        "\n",
        "persona1.presentarse()\n",
        "persona2.presentarse()\n",
        "\n",
        "persona1.saludar(persona2)\n",
        "persona2.saludar(persona1)"
      ],
      "metadata": {
        "id": "tGxisKf-B2_o",
        "colab": {
          "base_uri": "https://localhost:8080/"
        },
        "outputId": "08869f3b-4f8c-4ce8-96b4-b7638416378e"
      },
      "execution_count": 4,
      "outputs": [
        {
          "output_type": "stream",
          "name": "stdout",
          "text": [
            "Hola, mi nombre es Francisco, tengo 25 años y soy hombre.\n",
            "Hola, mi nombre es Alejandra, tengo 28 años y soy mujer.\n",
            "Hola Alejandra, soy Francisco. ¡Mucho gusto!\n",
            "Hola Francisco, soy Alejandra. ¡Mucho gusto!\n"
          ]
        }
      ]
    },
    {
      "cell_type": "markdown",
      "source": [
        "2.Crea una clase \"Coche\" que tenga atributos como marca, modelo, año, kilometraje y métodos para arrancar, acelerar y frenar."
      ],
      "metadata": {
        "id": "lzn3ZwPuC2ID"
      }
    },
    {
      "cell_type": "code",
      "source": [
        "class Coche:\n",
        "  def __init__(self,marca,modelo,año,kilometraje):\n",
        "    self.marca=marca\n",
        "    self.modelo=modelo\n",
        "    self.año=año\n",
        "    self.kilometraje=kilometraje\n",
        "  #Metodo arrancar\n",
        "  def arrancar(self):\n",
        "   print(f\"El coche {self.marca} ha arrancado\")\n",
        "  #Metodo acelerar\n",
        "  def acelerar(self,velocidad):\n",
        "   print(f\"El coche a acelerado a una velocidad de {velocidad} km/h\")\n",
        "  #Metodo frenar\n",
        "  def frenar(self):\n",
        "   print(f\"El coche {self.marca} ha frenado\")\n",
        "\n"
      ],
      "metadata": {
        "id": "ZJoxwolJClgN"
      },
      "execution_count": 5,
      "outputs": []
    },
    {
      "cell_type": "code",
      "source": [
        "coche = Coche(\"Toyota\", \"Camry\", 2022, 1000)\n",
        "\n",
        "coche.arrancar()\n",
        "coche.acelerar(60)\n",
        "coche.frenar()"
      ],
      "metadata": {
        "colab": {
          "base_uri": "https://localhost:8080/"
        },
        "id": "szUETFtrF9ml",
        "outputId": "9c7e928d-279e-422d-9221-8b346b0430a9"
      },
      "execution_count": 6,
      "outputs": [
        {
          "output_type": "stream",
          "name": "stdout",
          "text": [
            "El coche Toyota ha arrancado\n",
            "El coche a acelerado a una velocidad de 60 km/h\n",
            "El coche Toyota ha frenado\n"
          ]
        }
      ]
    },
    {
      "cell_type": "markdown",
      "source": [
        "Crea una clase \"Rectángulo\" que tenga atributos como longitud y ancho y métodos para calcular el área y el perímetro."
      ],
      "metadata": {
        "id": "_HztB7W4JYsA"
      }
    },
    {
      "cell_type": "code",
      "source": [
        "class rectangulo:\n",
        "  def __init__(self,longitud,ancho):\n",
        "    self.longitud=longitud\n",
        "    self.ancho=ancho\n",
        "\n",
        "  def area(self):\n",
        "    a=self.longitud*self.ancho\n",
        "    print(f\"El area del rectangulo es {a}\")\n",
        "  def perimetro(self):\n",
        "    p=2*(self.longitud+self.ancho)\n",
        "    print(f\"El perimetro del rectangulo es {p}\")\n",
        "\n",
        "rectangulo1=rectangulo(5,10)\n",
        "rectangulo1.area()\n",
        "rectangulo1.perimetro()\n",
        "\n"
      ],
      "metadata": {
        "id": "leAjvPvNJdsC"
      },
      "execution_count": null,
      "outputs": []
    },
    {
      "cell_type": "code",
      "source": [
        "#Crea una clase \"Banco\" que tenga atributos como nombre, dirección y métodos para abrir una cuenta,\n",
        "# depositar dinero, retirar dinero y revisar el saldo.\n",
        "class Banco:\n",
        "    def __init__(self, nombre, direccion):\n",
        "        self.nombre = nombre\n",
        "        self.direccion = direccion\n",
        "        self.cuentas = {}  # Utilizamos un diccionario para almacenar las cuentas\n",
        "\n",
        "    def abrir_cuenta(self, cliente, saldo_inicial=0):\n",
        "        self.cuentas[cliente] = saldo_inicial\n",
        "        print( f\"Cuenta abierta para {cliente} en {self.nombre} con un saldo inicial de {saldo_inicial} dólares.\")\n",
        "\n",
        "    def depositar(self, cliente, cantidad):\n",
        "        self.cuentas[cliente] += cantidad\n",
        "        print (f\"{cliente}, has depositado {cantidad} dólares. Saldo actual: {self.cuentas[cliente]} dólares.\")\n",
        "\n",
        "    def retirar(self, cliente, cantidad):\n",
        "        if cantidad <= self.cuentas[cliente]:\n",
        "            self.cuentas[cliente] -= cantidad\n",
        "            print( f\"{cliente}, has retirado {cantidad} dólares. Saldo actual: {self.cuentas[cliente]} dólares.\")\n",
        "        else:\n",
        "            print (f\"{cliente}, saldo insuficiente para realizar el retiro.\")\n",
        "\n",
        "    def revisar_saldo(self, cliente):\n",
        "        print (f\"Saldo actual de {cliente}: {self.cuentas[cliente]} dólares.\")\n",
        "\n",
        "#Ejemplo\n",
        "mi_banco = Banco(\"Mi Banco\", \"Calle Principal, Ciudad\")\n",
        "\n",
        "mi_banco.abrir_cuenta(\"Cliente 1\", 1000)\n",
        "mi_banco.depositar(\"Cliente 1\", 500)\n",
        "mi_banco.retirar(\"Cliente 1\", 1499)\n",
        "mi_banco.revisar_saldo(\"Cliente 1\")\n",
        "\n",
        "\n"
      ],
      "metadata": {
        "id": "PO5gwp1BkrD9"
      },
      "execution_count": null,
      "outputs": []
    },
    {
      "cell_type": "code",
      "source": [
        "#Crea una clase \"Estudiante\" que tenga atributos como nombre, edad, promedio y\n",
        "#métodos para estudiar, hacer tareas y presentar exámenes\n",
        "class Estudiante:\n",
        "    def __init__(self, nombre, edad, promedio):\n",
        "        self.nombre = nombre\n",
        "        self.edad = edad\n",
        "        self.promedio = promedio\n",
        "\n",
        "    def estudiar(self, horas_estudio):\n",
        "        return f\"{self.nombre} está estudiando durante {horas_estudio} horas.\"\n",
        "\n",
        "    def hacer_tareas(self, horas_tareas):\n",
        "        return f\"{self.nombre} está haciendo tareas durante {horas_tareas} horas.\"\n",
        "\n",
        "    def presentar_examen(self):\n",
        "        if self.promedio >= 7.0:\n",
        "            return f\"{self.nombre} presentó el examen y aprobó con un promedio de {self.promedio}. ¡Felicidades!\"\n",
        "        else:\n",
        "            return f\"{self.nombre} presentó el examen pero no aprobó con un promedio de {self.promedio}. Deberá estudiar más.\"\n",
        "\n",
        "# Ejemplo\n",
        "estudiante1 = Estudiante(\"Juan\", 18, 8.5)\n",
        "estudiante2 = Estudiante(\"María\", 20, 6.0)\n",
        "\n",
        "print(estudiante1.estudiar(3))\n",
        "print(estudiante2.hacer_tareas(2))\n",
        "\n",
        "print(estudiante1.presentar_examen())\n",
        "print(estudiante2.presentar_examen())\n"
      ],
      "metadata": {
        "id": "UsWchuzHzS7S"
      },
      "execution_count": null,
      "outputs": []
    }
  ]
}