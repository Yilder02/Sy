{
  "nbformat": 4,
  "nbformat_minor": 0,
  "metadata": {
    "colab": {
      "provenance": []
    },
    "kernelspec": {
      "name": "python3",
      "display_name": "Python 3"
    },
    "language_info": {
      "name": "python"
    }
  },
  "cells": [
    {
      "cell_type": "markdown",
      "source": [
        "# Ejercicio_1.\n",
        "Crea un sistema de manejo de figuras geométricas utilizando clases y herencia. Debes tener una clase base llamada \"FiguraGeometrica\" con un método abstracto llamado \"calcular_area()\". Luego, crea clases derivadas para diferentes tipos de figuras geométricas, como \"Círculo\", \"Rectángulo\" y \"Triángulo\". Cada clase derivada debe implementar el método \"calcular_area()\" de acuerdo con la fórmula correspondiente para el cálculo del área de esa figura."
      ],
      "metadata": {
        "id": "Qk8nlUDfV2Ge"
      }
    },
    {
      "cell_type": "code",
      "execution_count": null,
      "metadata": {
        "colab": {
          "base_uri": "https://localhost:8080/"
        },
        "id": "B63CXqqFMBcu",
        "outputId": "b845084e-176e-4c08-92c4-865b93d2c354"
      },
      "outputs": [
        {
          "output_type": "stream",
          "name": "stdout",
          "text": [
            "Área del círculo: 78.54\n",
            "Área del rectángulo: 24\n",
            "Área del triángulo: 10.5\n"
          ]
        }
      ],
      "source": [
        "import math\n",
        "\n",
        "# Definición de la clase base FiguraGeometrica\n",
        "class FiguraGeometrica:\n",
        "    def calcular_area(self):\n",
        "        pass\n",
        "\n",
        "# Clase derivada para círculos\n",
        "class Circulo(FiguraGeometrica):\n",
        "    def __init__(self, radio):\n",
        "        self.radio = radio\n",
        "\n",
        "    def calcular_area(self):\n",
        "        return round(math.pi * self.radio ** 2,2)\n",
        "\n",
        "# Clase derivada para rectángulos\n",
        "class Rectangulo(FiguraGeometrica):\n",
        "    def __init__(self, base, altura):\n",
        "        self.base = base\n",
        "        self.altura = altura\n",
        "\n",
        "    def calcular_area(self):\n",
        "        return self.base * self.altura\n",
        "\n",
        "# Clase derivada para triángulos\n",
        "class Triangulo(FiguraGeometrica):\n",
        "    def __init__(self, base, altura):\n",
        "        self.base = base\n",
        "        self.altura = altura\n",
        "\n",
        "    def calcular_area(self):\n",
        "        return 0.5 * self.base * self.altura\n",
        "\n",
        "# Ejemplo de uso\n",
        "circulo = Circulo(5)\n",
        "print(f\"Área del círculo: {circulo.calcular_area()}\")\n",
        "\n",
        "rectangulo = Rectangulo(4, 6)\n",
        "print(f\"Área del rectángulo: {rectangulo.calcular_area()}\")\n",
        "\n",
        "triangulo = Triangulo(3, 7)\n",
        "print(f\"Área del triángulo: {triangulo.calcular_area()}\")\n"
      ]
    },
    {
      "cell_type": "markdown",
      "source": [
        "# Ejercicio_2\n",
        "Crea un sistema de reserva de vuelos utilizando clases y herencia. Debes tener una clase base llamada \"Vuelo\" con los siguientes atributos: número de vuelo, origen, destino, y capacidad máxima de pasajeros. Luego, crea una clase derivada llamada \"VueloEconomico\" que herede de la clase base y agregue un atributo adicional llamado \"tarifa\". Además, agrega métodos en ambas clases para mostrar la información del vuelo y realizar una reserva de asientos.\n",
        "\n",
        "La clase base \"Vuelo\" debe tener un método para verificar si hay asientos disponibles y otro para realizar la reserva de un asiento. La clase derivada \"VueloEconomico\" puede tener métodos adicionales para calcular el precio total de la reserva de acuerdo con la tarifa y la cantidad de asientos reservados."
      ],
      "metadata": {
        "id": "wduGcPGwV9qf"
      }
    },
    {
      "cell_type": "code",
      "source": [
        "class Vuelo:\n",
        "    def __init__(self, numero_vuelo, origen, destino, capacidad_maxima):\n",
        "        self.numero_vuelo = numero_vuelo\n",
        "        self.origen = origen\n",
        "        self.destino = destino\n",
        "        self.capacidad_maxima = capacidad_maxima\n",
        "        self.asientos_disponibles = capacidad_maxima\n",
        "        self.reservas = []\n",
        "\n",
        "    def verificar_asientos_disponibles(self):\n",
        "        return self.asientos_disponibles\n",
        "\n",
        "    def realizar_reserva(self, num_asientos):\n",
        "        if num_asientos <= self.asientos_disponibles:\n",
        "            self.asientos_disponibles -= num_asientos\n",
        "            self.reservas.append(num_asientos)\n",
        "            print(f\"Reserva exitosa para {num_asientos} pasajero(s).\")\n",
        "        else:\n",
        "            print(\"Lo siento, no hay suficientes asientos disponibles.\")\n",
        "\n",
        "    def mostrar_informacion_vuelo(self):\n",
        "        print(f\"Vuelo {self.numero_vuelo}: {self.origen} -> {self.destino}\")\n",
        "        print(f\"Capacidad máxima: {self.capacidad_maxima}\")\n",
        "        print(f\"Asientos disponibles: {self.asientos_disponibles}\")\n",
        "\n",
        "class VueloEconomico(Vuelo):\n",
        "    def __init__(self, numero_vuelo, origen, destino, capacidad_maxima, tarifa):\n",
        "        super().__init__(numero_vuelo, origen, destino, capacidad_maxima)\n",
        "        self.tarifa = tarifa\n",
        "\n",
        "    def calcular_precio_total(self, num_asientos):\n",
        "        return self.tarifa * num_asientos\n",
        "\n",
        "# Ejemplo de uso\n",
        "vuelo_regular = Vuelo(\"AA123\", \"Nueva York\", \"Los Ángeles\", 150)\n",
        "vuelo_regular.mostrar_informacion_vuelo()\n",
        "vuelo_regular.realizar_reserva(3)\n",
        "vuelo_regular.realizar_reserva(2)\n",
        "vuelo_regular.mostrar_informacion_vuelo()\n",
        "\n",
        "vuelo_economico = VueloEconomico(\"BB456\", \"Chicago\", \"Miami\", 100, 200)\n",
        "vuelo_economico.mostrar_informacion_vuelo()\n",
        "vuelo_economico.realizar_reserva(4)\n",
        "vuelo_economico.realizar_reserva(3)\n",
        "vuelo_economico.mostrar_informacion_vuelo()\n",
        "print(f\"Precio total de la reserva: ${vuelo_economico.calcular_precio_total(4)}\")\n"
      ],
      "metadata": {
        "colab": {
          "base_uri": "https://localhost:8080/"
        },
        "id": "LEAH_8TRMoiD",
        "outputId": "93ce97ff-24bf-4b0c-b85a-247bd735b0a0"
      },
      "execution_count": null,
      "outputs": [
        {
          "output_type": "stream",
          "name": "stdout",
          "text": [
            "Vuelo AA123: Nueva York -> Los Ángeles\n",
            "Capacidad máxima: 150\n",
            "Asientos disponibles: 150\n",
            "Reserva exitosa para 3 pasajero(s).\n",
            "Reserva exitosa para 2 pasajero(s).\n",
            "Vuelo AA123: Nueva York -> Los Ángeles\n",
            "Capacidad máxima: 150\n",
            "Asientos disponibles: 145\n",
            "Vuelo BB456: Chicago -> Miami\n",
            "Capacidad máxima: 100\n",
            "Asientos disponibles: 100\n",
            "Reserva exitosa para 4 pasajero(s).\n",
            "Reserva exitosa para 3 pasajero(s).\n",
            "Vuelo BB456: Chicago -> Miami\n",
            "Capacidad máxima: 100\n",
            "Asientos disponibles: 93\n",
            "Precio total de la reserva: $800\n"
          ]
        }
      ]
    }
  ]
}